{
 "cells": [
  {
   "cell_type": "code",
   "execution_count": 7,
   "metadata": {},
   "outputs": [
    {
     "name": "stderr",
     "output_type": "stream",
     "text": [
      "\u001b[32m\u001b[1m   Resolving\u001b[22m\u001b[39m package versions...\n",
      "\u001b[32m\u001b[1m  No Changes\u001b[22m\u001b[39m to `C:\\Users\\batagoda\\.julia\\environments\\v1.10\\Project.toml`\n",
      "\u001b[32m\u001b[1m  No Changes\u001b[22m\u001b[39m to `C:\\Users\\batagoda\\.julia\\environments\\v1.10\\Manifest.toml`\n",
      "\u001b[32m\u001b[1mPrecompiling\u001b[22m\u001b[39m project...\n",
      "    Unitful\u001b[36m Being precompiled by another process (pid: 28580, pidfile: C:\\Users\\batagoda\\.julia\\compiled\\v1.10\\Unitful\\5WYj5_tm3GZ.ji.pidfile)\u001b[39m\n",
      "    ColorSchemes\u001b[36m Being precompiled by another process (pid: 28580, pidfile: C:\\Users\\batagoda\\.julia\\compiled\\v1.10\\ColorSchemes\\EO5fj_tm3GZ.ji.pidfile)\u001b[39m\n",
      "\u001b[32m  ✓ \u001b[39m\u001b[90mFFMPEG\u001b[39m\n",
      "\u001b[32m  ✓ \u001b[39m\u001b[90mQt6Base_jll\u001b[39m\n",
      "\u001b[32m  ✓ \u001b[39m\u001b[90mGR_jll\u001b[39m\n",
      "    GR\u001b[36m Being precompiled by another process (pid: 28580, pidfile: C:\\Users\\batagoda\\.julia\\compiled\\v1.10\\GR\\NDU5Y_tm3GZ.ji.pidfile)\u001b[39m\n",
      "\u001b[32m  ✓ \u001b[39m\u001b[90mUnitful\u001b[39m\n",
      "\u001b[32m  ✓ \u001b[39m\u001b[90mColorSchemes\u001b[39m\n",
      "    UnitfulLatexify\u001b[36m Being precompiled by another process (pid: 28580, pidfile: C:\\Users\\batagoda\\.julia\\compiled\\v1.10\\UnitfulLatexify\\trCzg_tm3GZ.ji.pidfile)\u001b[39m\n",
      "    PlotUtils\u001b[36m Being precompiled by another process (pid: 28580, pidfile: C:\\Users\\batagoda\\.julia\\compiled\\v1.10\\PlotUtils\\YveHG_tm3GZ.ji.pidfile)\u001b[39m\n",
      "\u001b[32m  ✓ \u001b[39m\u001b[90mGR\u001b[39m\n",
      "\u001b[32m  ✓ \u001b[39m\u001b[90mUnitfulLatexify\u001b[39m\n",
      "\u001b[32m  ✓ \u001b[39m\u001b[90mPlotUtils\u001b[39m\n",
      "    PlotThemes\u001b[36m Being precompiled by another process (pid: 28580, pidfile: C:\\Users\\batagoda\\.julia\\compiled\\v1.10\\PlotThemes\\QxsMm_tm3GZ.ji.pidfile)\u001b[39m\n",
      "    RecipesPipeline\u001b[36m Being precompiled by another process (pid: 28580, pidfile: C:\\Users\\batagoda\\.julia\\compiled\\v1.10\\RecipesPipeline\\QQIne_tm3GZ.ji.pidfile)\u001b[39m\n",
      "\u001b[32m  ✓ \u001b[39m\u001b[90mPlotThemes\u001b[39m\n",
      "\u001b[32m  ✓ \u001b[39m\u001b[90mRecipesPipeline\u001b[39m\n",
      "    Plots\u001b[36m Being precompiled by another process (pid: 28580, pidfile: C:\\Users\\batagoda\\.julia\\compiled\\v1.10\\Plots\\ld3vC_tm3GZ.ji.pidfile)\u001b[39m\n",
      "\u001b[32m  ✓ \u001b[39mPlots\n",
      "    UnitfulExt\u001b[36m Being precompiled by another process (pid: 28580, pidfile: C:\\Users\\batagoda\\.julia\\compiled\\v1.10\\UnitfulExt\\4ishe_tm3GZ.ji.pidfile)\u001b[39m\n",
      "\u001b[32m  ✓ \u001b[39m\u001b[90mPlots → UnitfulExt\u001b[39m\n",
      "    IJuliaExt\u001b[36m Being precompiled by another process (pid: 28580, pidfile: C:\\Users\\batagoda\\.julia\\compiled\\v1.10\\IJuliaExt\\aTeZs_tm3GZ.ji.pidfile)\u001b[39m\n",
      "\u001b[32m  ✓ \u001b[39m\u001b[90mPlots → IJuliaExt\u001b[39m\n",
      "  13 dependencies successfully precompiled in 36 seconds. 181 already precompiled.\n",
      "\u001b[32m\u001b[1m   Resolving\u001b[22m\u001b[39m package versions...\n",
      "\u001b[32m\u001b[1m   Installed\u001b[22m\u001b[39m JuMP ─ v1.21.1\n",
      "\u001b[32m\u001b[1m    Updating\u001b[22m\u001b[39m `C:\\Users\\batagoda\\.julia\\environments\\v1.10\\Project.toml`\n",
      "  \u001b[90m[4076af6c] \u001b[39m\u001b[92m+ JuMP v1.21.1\u001b[39m\n",
      "\u001b[32m\u001b[1m    Updating\u001b[22m\u001b[39m `C:\\Users\\batagoda\\.julia\\environments\\v1.10\\Manifest.toml`\n",
      "  \u001b[90m[4076af6c] \u001b[39m\u001b[92m+ JuMP v1.21.1\u001b[39m\n",
      "\u001b[32m\u001b[1mPrecompiling\u001b[22m\u001b[39m project...\n",
      "\u001b[32m  ✓ \u001b[39mJuMP\n",
      "  1 dependency successfully precompiled in 8 seconds. 194 already precompiled.\n"
     ]
    }
   ],
   "source": [
    "using Pkg\n",
    "Pkg.add(\"Ipopt\")\n",
    "Pkg.add(\"JuMP\")"
   ]
  },
  {
   "cell_type": "code",
   "execution_count": 82,
   "metadata": {},
   "outputs": [],
   "source": [
    "using CSV\n",
    "using JuMP\n",
    "using Ipopt\n",
    "using DataFrames\n",
    "using Plots\n",
    "using LinearAlgebra"
   ]
  },
  {
   "cell_type": "code",
   "execution_count": 35,
   "metadata": {},
   "outputs": [
    {
     "data": {
      "text/plain": [
       "1000×13 Matrix{Float64}:\n",
       "  0.01  1.0  9.5888e-8     1.5708  …  0.573312  -2.57453e-15  -0.2688\n",
       "  0.02  1.0  7.66208e-7    1.5708     0.570624  -2.57453e-15  -0.2688\n",
       "  0.03  1.0  2.58293e-6    1.5708     0.567936  -2.57453e-15  -0.2688\n",
       "  0.04  1.0  6.11533e-6    1.5708     0.565248  -2.57453e-15  -0.2688\n",
       "  0.05  1.0  1.193e-5      1.5708     0.56256   -2.57453e-15  -0.2688\n",
       "  0.06  1.0  2.05908e-5    1.5708  …  0.559872  -2.57453e-15  -0.2688\n",
       "  0.07  1.0  3.26591e-5    1.5708     0.557184  -2.57453e-15  -0.2688\n",
       "  0.08  1.0  4.86932e-5    1.5708     0.554496  -2.57453e-15  -0.2688\n",
       "  0.09  1.0  6.92492e-5    1.5708     0.551808  -2.57453e-15  -0.2688\n",
       "  0.1   1.0  9.488e-5      1.5708     0.54912   -2.57453e-15  -0.2688\n",
       "  0.11  1.0  0.000126136   1.5708  …  0.546432  -2.57453e-15  -0.2688\n",
       "  0.12  1.0  0.000163566   1.5708     0.543744  -2.57453e-15  -0.2688\n",
       "  0.13  1.0  0.000207713   1.5708     0.541056  -2.57453e-15  -0.2688\n",
       "  ⋮                                ⋱  ⋮                       \n",
       "  9.89  1.0  7.99996      -1.5708     0.187776  -6.48213e-15   0.0384\n",
       "  9.9   1.0  7.99997      -1.5708     0.18816   -6.48213e-15   0.0384\n",
       "  9.91  1.0  7.99998      -1.5708  …  0.188544  -6.48213e-15   0.0384\n",
       "  9.92  1.0  7.99998      -1.5708     0.188928  -6.48213e-15   0.0384\n",
       "  9.93  1.0  7.99999      -1.5708     0.189312  -6.48213e-15   0.0384\n",
       "  9.94  1.0  7.99999      -1.5708     0.189696  -6.48213e-15   0.0384\n",
       "  9.95  1.0  8.0          -1.5708     0.19008   -6.48213e-15   0.0384\n",
       "  9.96  1.0  8.0          -1.5708  …  0.190464  -6.48213e-15   0.0384\n",
       "  9.97  1.0  8.0          -1.5708     0.190848  -6.48213e-15   0.0384\n",
       "  9.98  1.0  8.0          -1.5708     0.191232  -6.48213e-15   0.0384\n",
       "  9.99  1.0  8.0          -1.5708     0.191616  -6.48213e-15   0.0384\n",
       " 10.0   1.0  8.0          -1.5517     0.192     -6.48213e-15   0.0384"
      ]
     },
     "execution_count": 35,
     "metadata": {},
     "output_type": "execute_result"
    }
   ],
   "source": [
    "trajectory_data = DataFrame(CSV.File(\"traj2d.csv\"));\n",
    "ref_trajectory= Matrix(trajectory_data)[]"
   ]
  },
  {
   "cell_type": "code",
   "execution_count": 62,
   "metadata": {},
   "outputs": [
    {
     "data": {
      "text/plain": [
       "1000"
      ]
     },
     "execution_count": 62,
     "metadata": {},
     "output_type": "execute_result"
    }
   ],
   "source": [
    "N = size(ref_trajectory)[1]\n",
    "ref_trajectory[1,5:6][2]\n",
    "N"
   ]
  },
  {
   "cell_type": "code",
   "execution_count": 110,
   "metadata": {},
   "outputs": [],
   "source": [
    "function A_k(x, dxdy)\n",
    "    A = [0 0  -dxdy[2];\n",
    "         0 0  dxdy[1];\n",
    "         0 0  0];\n",
    "    return A\n",
    "end\n",
    "\n",
    "function B_k(x, dxdy)\n",
    "    phi = atan( 2*(dxdy[1]*dxdy[5] - dxdy[4]*dxdy[2]) / (dxdy[1]^2 + dxdy[2]^2)^(3/2) );\n",
    "    theta = atan( dxdy[2] / dxdy[1] );\n",
    "    if isnan(phi)\n",
    "        phi = 0\n",
    "    end\n",
    "    if isnan(theta)\n",
    "        theta = 0\n",
    "    end\n",
    "    v = dxdy[1] / cos(theta);\n",
    "    B = [cos(theta) 0;\n",
    "         sin(theta) 0;\n",
    "         1/tan(phi) (v/2)*sec(phi)^2];\n",
    "    return B\n",
    "end\n",
    "\n",
    "\n",
    "# For each entry in the reference trajectory, comput a A and B matrix\n",
    "A = zeros(3,3,N)\n",
    "B = zeros(3,2,N)\n",
    "for i in 1:N\n",
    "    #println(N)\n",
    "    x = ref_trajectory[i,5:6]\n",
    "    dxdy = ref_trajectory[i,5:9]\n",
    "    A[:,:,i] = A_k(x, dxdy)\n",
    "    B[:,:,i] = B_k(x, dxdy)\n",
    "end\n"
   ]
  },
  {
   "cell_type": "code",
   "execution_count": 114,
   "metadata": {},
   "outputs": [
    {
     "data": {
      "text/plain": [
       "3×2 Matrix{Float64}:\n",
       " 5.16826e-15  0.0\n",
       " 1.0          0.0\n",
       " 2.08654e10   1.43408e-5"
      ]
     },
     "execution_count": 114,
     "metadata": {},
     "output_type": "execute_result"
    }
   ],
   "source": [
    "B[:,:,1]"
   ]
  },
  {
   "cell_type": "code",
   "execution_count": 136,
   "metadata": {},
   "outputs": [
    {
     "data": {
      "image/png": "[encoded data removed]",
      "image/svg+xml": [
       "<?xml version=\"1.0\" encoding=\"utf-8\"?>\n",
       "<svg xmlns=\"http://www.w3.org/2000/svg\" xmlns:xlink=\"http://www.w3.org/1999/xlink\" width=\"600\" height=\"400\" viewBox=\"0 0 2400 1600\">\n",
       "<defs>\n",
       "  <clipPath id=\"clip160\">\n",
       "    <rect x=\"0\" y=\"0\" width=\"2400\" height=\"1600\"/>\n",
       "  </clipPath>\n",
       "</defs>\n",
       "<path clip-path=\"url(#clip160)\" d=\"M0 1600 L2400 1600 L2400 0 L0 0  Z\" fill=\"#ffffff\" fill-rule=\"evenodd\" fill-opacity=\"1\"/>\n",
       "<defs>\n",
       "  <clipPath id=\"clip161\">\n",
       "    <rect x=\"480\" y=\"0\" width=\"1681\" height=\"1600\"/>\n",
       "  </clipPath>\n",
       "</defs>\n",
       "<path clip-path=\"url(#clip160)\" d=\"M318.014 1423.18 L2352.76 1423.18 L2352.76 47.2441 L318.014 47.2441  Z\" fill=\"#ffffff\" fill-rule=\"evenodd\" fill-opacity=\"1\"/>\n",
       "<defs>\n",
       "  <clipPath id=\"clip162\">\n",
       "    <rect x=\"318\" y=\"47\" width=\"2036\" height=\"1377\"/>\n",
       "  </clipPath>\n",
       "</defs>\n",
       "<polyline clip-path=\"url(#clip162)\" style=\"stroke:#000000; stroke-linecap:round; stroke-linejoin:round; stroke-width:2; stroke-opacity:0.1; fill:none\" points=\"375.601,1423.18 375.601,47.2441 \"/>\n",
       "<polyline clip-path=\"url(#clip162)\" style=\"stroke:#000000; stroke-linecap:round; stroke-linejoin:round; stroke-width:2; stroke-opacity:0.1; fill:none\" points=\"986.618,1423.18 986.618,47.2441 \"/>\n",
       "<polyline clip-path=\"url(#clip162)\" style=\"stroke:#000000; stroke-linecap:round; stroke-linejoin:round; stroke-width:2; stroke-opacity:0.1; fill:none\" points=\"1597.64,1423.18 1597.64,47.2441 \"/>\n",
       "<polyline clip-path=\"url(#clip162)\" style=\"stroke:#000000; stroke-linecap:round; stroke-linejoin:round; stroke-width:2; stroke-opacity:0.1; fill:none\" points=\"2208.65,1423.18 2208.65,47.2441 \"/>\n",
       "<polyline clip-path=\"url(#clip160)\" style=\"stroke:#000000; stroke-linecap:round; stroke-linejoin:round; stroke-width:4; stroke-opacity:1; fill:none\" points=\"318.014,1423.18 2352.76,1423.18 \"/>\n",
       "<polyline clip-path=\"url(#clip160)\" style=\"stroke:#000000; stroke-linecap:round; stroke-linejoin:round; stroke-width:4; stroke-opacity:1; fill:none\" points=\"375.601,1423.18 375.601,1404.28 \"/>\n",
       "<polyline clip-path=\"url(#clip160)\" style=\"stroke:#000000; stroke-linecap:round; stroke-linejoin:round; stroke-width:4; stroke-opacity:1; fill:none\" points=\"986.618,1423.18 986.618,1404.28 \"/>\n",
       "<polyline clip-path=\"url(#clip160)\" style=\"stroke:#000000; stroke-linecap:round; stroke-linejoin:round; stroke-width:4; stroke-opacity:1; fill:none\" points=\"1597.64,1423.18 1597.64,1404.28 \"/>\n",
       "<polyline clip-path=\"url(#clip160)\" style=\"stroke:#000000; stroke-linecap:round; stroke-linejoin:round; stroke-width:4; stroke-opacity:1; fill:none\" points=\"2208.65,1423.18 2208.65,1404.28 \"/>\n",
       "<path clip-path=\"url(#clip160)\" d=\"M352.985 1454.1 Q349.374 1454.1 347.545 1457.66 Q345.74 1461.2 345.74 1468.33 Q345.74 1475.44 347.545 1479.01 Q349.374 1482.55 352.985 1482.55 Q356.619 1482.55 358.425 1479.01 Q360.254 1475.44 360.254 1468.33 Q360.254 1461.2 358.425 1457.66 Q356.619 1454.1 352.985 1454.1 M352.985 1450.39 Q358.795 1450.39 361.851 1455 Q364.93 1459.58 364.93 1468.33 Q364.93 1477.06 361.851 1481.67 Q358.795 1486.25 352.985 1486.25 Q347.175 1486.25 344.096 1481.67 Q341.041 1477.06 341.041 1468.33 Q341.041 1459.58 344.096 1455 Q347.175 1450.39 352.985 1450.39 Z\" fill=\"#000000\" fill-rule=\"nonzero\" fill-opacity=\"1\" /><path clip-path=\"url(#clip160)\" d=\"M373.147 1479.7 L378.031 1479.7 L378.031 1485.58 L373.147 1485.58 L373.147 1479.7 Z\" fill=\"#000000\" fill-rule=\"nonzero\" fill-opacity=\"1\" /><path clip-path=\"url(#clip160)\" d=\"M398.216 1454.1 Q394.605 1454.1 392.777 1457.66 Q390.971 1461.2 390.971 1468.33 Q390.971 1475.44 392.777 1479.01 Q394.605 1482.55 398.216 1482.55 Q401.851 1482.55 403.656 1479.01 Q405.485 1475.44 405.485 1468.33 Q405.485 1461.2 403.656 1457.66 Q401.851 1454.1 398.216 1454.1 M398.216 1450.39 Q404.027 1450.39 407.082 1455 Q410.161 1459.58 410.161 1468.33 Q410.161 1477.06 407.082 1481.67 Q404.027 1486.25 398.216 1486.25 Q392.406 1486.25 389.328 1481.67 Q386.272 1477.06 386.272 1468.33 Q386.272 1459.58 389.328 1455 Q392.406 1450.39 398.216 1450.39 Z\" fill=\"#000000\" fill-rule=\"nonzero\" fill-opacity=\"1\" /><path clip-path=\"url(#clip160)\" d=\"M964.5 1454.1 Q960.889 1454.1 959.061 1457.66 Q957.255 1461.2 957.255 1468.33 Q957.255 1475.44 959.061 1479.01 Q960.889 1482.55 964.5 1482.55 Q968.135 1482.55 969.94 1479.01 Q971.769 1475.44 971.769 1468.33 Q971.769 1461.2 969.94 1457.66 Q968.135 1454.1 964.5 1454.1 M964.5 1450.39 Q970.311 1450.39 973.366 1455 Q976.445 1459.58 976.445 1468.33 Q976.445 1477.06 973.366 1481.67 Q970.311 1486.25 964.5 1486.25 Q958.69 1486.25 955.612 1481.67 Q952.556 1477.06 952.556 1468.33 Q952.556 1459.58 955.612 1455 Q958.69 1450.39 964.5 1450.39 Z\" fill=\"#000000\" fill-rule=\"nonzero\" fill-opacity=\"1\" /><path clip-path=\"url(#clip160)\" d=\"M984.662 1479.7 L989.547 1479.7 L989.547 1485.58 L984.662 1485.58 L984.662 1479.7 Z\" fill=\"#000000\" fill-rule=\"nonzero\" fill-opacity=\"1\" /><path clip-path=\"url(#clip160)\" d=\"M999.778 1451.02 L1018.13 1451.02 L1018.13 1454.96 L1004.06 1454.96 L1004.06 1463.43 Q1005.08 1463.08 1006.1 1462.92 Q1007.12 1462.73 1008.13 1462.73 Q1013.92 1462.73 1017.3 1465.9 Q1020.68 1469.08 1020.68 1474.49 Q1020.68 1480.07 1017.21 1483.17 Q1013.74 1486.25 1007.42 1486.25 Q1005.24 1486.25 1002.97 1485.88 Q1000.73 1485.51 998.32 1484.77 L998.32 1480.07 Q1000.4 1481.2 1002.63 1481.76 Q1004.85 1482.32 1007.32 1482.32 Q1011.33 1482.32 1013.67 1480.21 Q1016 1478.1 1016 1474.49 Q1016 1470.88 1013.67 1468.77 Q1011.33 1466.67 1007.32 1466.67 Q1005.45 1466.67 1003.57 1467.08 Q1001.72 1467.5 999.778 1468.38 L999.778 1451.02 Z\" fill=\"#000000\" fill-rule=\"nonzero\" fill-opacity=\"1\" /><path clip-path=\"url(#clip160)\" d=\"M1564.79 1481.64 L1572.43 1481.64 L1572.43 1455.28 L1564.12 1456.95 L1564.12 1452.69 L1572.38 1451.02 L1577.06 1451.02 L1577.06 1481.64 L1584.7 1481.64 L1584.7 1485.58 L1564.79 1485.58 L1564.79 1481.64 Z\" fill=\"#000000\" fill-rule=\"nonzero\" fill-opacity=\"1\" /><path clip-path=\"url(#clip160)\" d=\"M1594.14 1479.7 L1599.02 1479.7 L1599.02 1485.58 L1594.14 1485.58 L1594.14 1479.7 Z\" fill=\"#000000\" fill-rule=\"nonzero\" fill-opacity=\"1\" /><path clip-path=\"url(#clip160)\" d=\"M1619.21 1454.1 Q1615.6 1454.1 1613.77 1457.66 Q1611.96 1461.2 1611.96 1468.33 Q1611.96 1475.44 1613.77 1479.01 Q1615.6 1482.55 1619.21 1482.55 Q1622.84 1482.55 1624.65 1479.01 Q1626.48 1475.44 1626.48 1468.33 Q1626.48 1461.2 1624.65 1457.66 Q1622.84 1454.1 1619.21 1454.1 M1619.21 1450.39 Q1625.02 1450.39 1628.08 1455 Q1631.15 1459.58 1631.15 1468.33 Q1631.15 1477.06 1628.08 1481.67 Q1625.02 1486.25 1619.21 1486.25 Q1613.4 1486.25 1610.32 1481.67 Q1607.27 1477.06 1607.27 1468.33 Q1607.27 1459.58 1610.32 1455 Q1613.4 1450.39 1619.21 1450.39 Z\" fill=\"#000000\" fill-rule=\"nonzero\" fill-opacity=\"1\" /><path clip-path=\"url(#clip160)\" d=\"M2176.3 1481.64 L2183.94 1481.64 L2183.94 1455.28 L2175.63 1456.95 L2175.63 1452.69 L2183.9 1451.02 L2188.57 1451.02 L2188.57 1481.64 L2196.21 1481.64 L2196.21 1485.58 L2176.3 1485.58 L2176.3 1481.64 Z\" fill=\"#000000\" fill-rule=\"nonzero\" fill-opacity=\"1\" /><path clip-path=\"url(#clip160)\" d=\"M2205.66 1479.7 L2210.54 1479.7 L2210.54 1485.58 L2205.66 1485.58 L2205.66 1479.7 Z\" fill=\"#000000\" fill-rule=\"nonzero\" fill-opacity=\"1\" /><path clip-path=\"url(#clip160)\" d=\"M2220.77 1451.02 L2239.13 1451.02 L2239.13 1454.96 L2225.05 1454.96 L2225.05 1463.43 Q2226.07 1463.08 2227.09 1462.92 Q2228.11 1462.73 2229.13 1462.73 Q2234.91 1462.73 2238.29 1465.9 Q2241.67 1469.08 2241.67 1474.49 Q2241.67 1480.07 2238.2 1483.17 Q2234.73 1486.25 2228.41 1486.25 Q2226.23 1486.25 2223.97 1485.88 Q2221.72 1485.51 2219.31 1484.77 L2219.31 1480.07 Q2221.4 1481.2 2223.62 1481.76 Q2225.84 1482.32 2228.32 1482.32 Q2232.32 1482.32 2234.66 1480.21 Q2237 1478.1 2237 1474.49 Q2237 1470.88 2234.66 1468.77 Q2232.32 1466.67 2228.32 1466.67 Q2226.44 1466.67 2224.57 1467.08 Q2222.72 1467.5 2220.77 1468.38 L2220.77 1451.02 Z\" fill=\"#000000\" fill-rule=\"nonzero\" fill-opacity=\"1\" /><path clip-path=\"url(#clip160)\" d=\"M1317.21 1520.52 L1324.12 1520.52 L1335.93 1538.19 L1347.8 1520.52 L1354.7 1520.52 L1339.43 1543.34 L1355.72 1568.04 L1348.82 1568.04 L1335.45 1547.83 L1321.99 1568.04 L1315.05 1568.04 L1332.01 1542.68 L1317.21 1520.52 Z\" fill=\"#000000\" fill-rule=\"nonzero\" fill-opacity=\"1\" /><polyline clip-path=\"url(#clip162)\" style=\"stroke:#000000; stroke-linecap:round; stroke-linejoin:round; stroke-width:2; stroke-opacity:0.1; fill:none\" points=\"318.014,1175.9 2352.76,1175.9 \"/>\n",
       "<polyline clip-path=\"url(#clip162)\" style=\"stroke:#000000; stroke-linecap:round; stroke-linejoin:round; stroke-width:2; stroke-opacity:0.1; fill:none\" points=\"318.014,903.471 2352.76,903.471 \"/>\n",
       "<polyline clip-path=\"url(#clip162)\" style=\"stroke:#000000; stroke-linecap:round; stroke-linejoin:round; stroke-width:2; stroke-opacity:0.1; fill:none\" points=\"318.014,631.043 2352.76,631.043 \"/>\n",
       "<polyline clip-path=\"url(#clip162)\" style=\"stroke:#000000; stroke-linecap:round; stroke-linejoin:round; stroke-width:2; stroke-opacity:0.1; fill:none\" points=\"318.014,358.614 2352.76,358.614 \"/>\n",
       "<polyline clip-path=\"url(#clip162)\" style=\"stroke:#000000; stroke-linecap:round; stroke-linejoin:round; stroke-width:2; stroke-opacity:0.1; fill:none\" points=\"318.014,86.1857 2352.76,86.1857 \"/>\n",
       "<polyline clip-path=\"url(#clip160)\" style=\"stroke:#000000; stroke-linecap:round; stroke-linejoin:round; stroke-width:4; stroke-opacity:1; fill:none\" points=\"318.014,1423.18 318.014,47.2441 \"/>\n",
       "<polyline clip-path=\"url(#clip160)\" style=\"stroke:#000000; stroke-linecap:round; stroke-linejoin:round; stroke-width:4; stroke-opacity:1; fill:none\" points=\"318.014,1175.9 336.912,1175.9 \"/>\n",
       "<polyline clip-path=\"url(#clip160)\" style=\"stroke:#000000; stroke-linecap:round; stroke-linejoin:round; stroke-width:4; stroke-opacity:1; fill:none\" points=\"318.014,903.471 336.912,903.471 \"/>\n",
       "<polyline clip-path=\"url(#clip160)\" style=\"stroke:#000000; stroke-linecap:round; stroke-linejoin:round; stroke-width:4; stroke-opacity:1; fill:none\" points=\"318.014,631.043 336.912,631.043 \"/>\n",
       "<polyline clip-path=\"url(#clip160)\" style=\"stroke:#000000; stroke-linecap:round; stroke-linejoin:round; stroke-width:4; stroke-opacity:1; fill:none\" points=\"318.014,358.614 336.912,358.614 \"/>\n",
       "<polyline clip-path=\"url(#clip160)\" style=\"stroke:#000000; stroke-linecap:round; stroke-linejoin:round; stroke-width:4; stroke-opacity:1; fill:none\" points=\"318.014,86.1857 336.912,86.1857 \"/>\n",
       "<path clip-path=\"url(#clip160)\" d=\"M114.839 1176.35 L144.515 1176.35 L144.515 1180.29 L114.839 1180.29 L114.839 1176.35 Z\" fill=\"#000000\" fill-rule=\"nonzero\" fill-opacity=\"1\" /><path clip-path=\"url(#clip160)\" d=\"M164.607 1161.7 Q160.996 1161.7 159.167 1165.26 Q157.362 1168.81 157.362 1175.93 Q157.362 1183.04 159.167 1186.61 Q160.996 1190.15 164.607 1190.15 Q168.241 1190.15 170.047 1186.61 Q171.876 1183.04 171.876 1175.93 Q171.876 1168.81 170.047 1165.26 Q168.241 1161.7 164.607 1161.7 M164.607 1157.99 Q170.417 1157.99 173.473 1162.6 Q176.551 1167.18 176.551 1175.93 Q176.551 1184.66 173.473 1189.27 Q170.417 1193.85 164.607 1193.85 Q158.797 1193.85 155.718 1189.27 Q152.663 1184.66 152.663 1175.93 Q152.663 1167.18 155.718 1162.6 Q158.797 1157.99 164.607 1157.99 Z\" fill=\"#000000\" fill-rule=\"nonzero\" fill-opacity=\"1\" /><path clip-path=\"url(#clip160)\" d=\"M184.769 1187.3 L189.653 1187.3 L189.653 1193.18 L184.769 1193.18 L184.769 1187.3 Z\" fill=\"#000000\" fill-rule=\"nonzero\" fill-opacity=\"1\" /><path clip-path=\"url(#clip160)\" d=\"M209.838 1161.7 Q206.227 1161.7 204.399 1165.26 Q202.593 1168.81 202.593 1175.93 Q202.593 1183.04 204.399 1186.61 Q206.227 1190.15 209.838 1190.15 Q213.473 1190.15 215.278 1186.61 Q217.107 1183.04 217.107 1175.93 Q217.107 1168.81 215.278 1165.26 Q213.473 1161.7 209.838 1161.7 M209.838 1157.99 Q215.649 1157.99 218.704 1162.6 Q221.783 1167.18 221.783 1175.93 Q221.783 1184.66 218.704 1189.27 Q215.649 1193.85 209.838 1193.85 Q204.028 1193.85 200.95 1189.27 Q197.894 1184.66 197.894 1175.93 Q197.894 1167.18 200.95 1162.6 Q204.028 1157.99 209.838 1157.99 Z\" fill=\"#000000\" fill-rule=\"nonzero\" fill-opacity=\"1\" /><path clip-path=\"url(#clip160)\" d=\"M240 1161.7 Q236.389 1161.7 234.56 1165.26 Q232.755 1168.81 232.755 1175.93 Q232.755 1183.04 234.56 1186.61 Q236.389 1190.15 240 1190.15 Q243.634 1190.15 245.44 1186.61 Q247.269 1183.04 247.269 1175.93 Q247.269 1168.81 245.44 1165.26 Q243.634 1161.7 240 1161.7 M240 1157.99 Q245.81 1157.99 248.866 1162.6 Q251.945 1167.18 251.945 1175.93 Q251.945 1184.66 248.866 1189.27 Q245.81 1193.85 240 1193.85 Q234.19 1193.85 231.111 1189.27 Q228.056 1184.66 228.056 1175.93 Q228.056 1167.18 231.111 1162.6 Q234.19 1157.99 240 1157.99 Z\" fill=\"#000000\" fill-rule=\"nonzero\" fill-opacity=\"1\" /><path clip-path=\"url(#clip160)\" d=\"M270.162 1176.77 Q266.829 1176.77 264.907 1178.55 Q263.009 1180.33 263.009 1183.46 Q263.009 1186.58 264.907 1188.37 Q266.829 1190.15 270.162 1190.15 Q273.495 1190.15 275.417 1188.37 Q277.338 1186.56 277.338 1183.46 Q277.338 1180.33 275.417 1178.55 Q273.519 1176.77 270.162 1176.77 M265.486 1174.78 Q262.477 1174.04 260.787 1171.98 Q259.12 1169.92 259.12 1166.95 Q259.12 1162.81 262.06 1160.4 Q265.023 1157.99 270.162 1157.99 Q275.324 1157.99 278.264 1160.4 Q281.204 1162.81 281.204 1166.95 Q281.204 1169.92 279.514 1171.98 Q277.847 1174.04 274.861 1174.78 Q278.241 1175.56 280.116 1177.86 Q282.014 1180.15 282.014 1183.46 Q282.014 1188.48 278.935 1191.17 Q275.88 1193.85 270.162 1193.85 Q264.445 1193.85 261.366 1191.17 Q258.31 1188.48 258.31 1183.46 Q258.31 1180.15 260.208 1177.86 Q262.107 1175.56 265.486 1174.78 M263.773 1167.39 Q263.773 1170.08 265.44 1171.58 Q267.13 1173.09 270.162 1173.09 Q273.171 1173.09 274.861 1171.58 Q276.574 1170.08 276.574 1167.39 Q276.574 1164.71 274.861 1163.2 Q273.171 1161.7 270.162 1161.7 Q267.13 1161.7 265.44 1163.2 Q263.773 1164.71 263.773 1167.39 Z\" fill=\"#000000\" fill-rule=\"nonzero\" fill-opacity=\"1\" /><path clip-path=\"url(#clip160)\" d=\"M114.584 903.923 L144.26 903.923 L144.26 907.858 L114.584 907.858 L114.584 903.923 Z\" fill=\"#000000\" fill-rule=\"nonzero\" fill-opacity=\"1\" /><path clip-path=\"url(#clip160)\" d=\"M164.352 889.27 Q160.741 889.27 158.913 892.835 Q157.107 896.376 157.107 903.506 Q157.107 910.613 158.913 914.177 Q160.741 917.719 164.352 917.719 Q167.987 917.719 169.792 914.177 Q171.621 910.613 171.621 903.506 Q171.621 896.376 169.792 892.835 Q167.987 889.27 164.352 889.27 M164.352 885.566 Q170.163 885.566 173.218 890.173 Q176.297 894.756 176.297 903.506 Q176.297 912.233 173.218 916.839 Q170.163 921.423 164.352 921.423 Q158.542 921.423 155.464 916.839 Q152.408 912.233 152.408 903.506 Q152.408 894.756 155.464 890.173 Q158.542 885.566 164.352 885.566 Z\" fill=\"#000000\" fill-rule=\"nonzero\" fill-opacity=\"1\" /><path clip-path=\"url(#clip160)\" d=\"M184.514 914.872 L189.399 914.872 L189.399 920.751 L184.514 920.751 L184.514 914.872 Z\" fill=\"#000000\" fill-rule=\"nonzero\" fill-opacity=\"1\" /><path clip-path=\"url(#clip160)\" d=\"M209.584 889.27 Q205.973 889.27 204.144 892.835 Q202.338 896.376 202.338 903.506 Q202.338 910.613 204.144 914.177 Q205.973 917.719 209.584 917.719 Q213.218 917.719 215.024 914.177 Q216.852 910.613 216.852 903.506 Q216.852 896.376 215.024 892.835 Q213.218 889.27 209.584 889.27 M209.584 885.566 Q215.394 885.566 218.449 890.173 Q221.528 894.756 221.528 903.506 Q221.528 912.233 218.449 916.839 Q215.394 921.423 209.584 921.423 Q203.774 921.423 200.695 916.839 Q197.639 912.233 197.639 903.506 Q197.639 894.756 200.695 890.173 Q203.774 885.566 209.584 885.566 Z\" fill=\"#000000\" fill-rule=\"nonzero\" fill-opacity=\"1\" /><path clip-path=\"url(#clip160)\" d=\"M239.746 889.27 Q236.135 889.27 234.306 892.835 Q232.5 896.376 232.5 903.506 Q232.5 910.613 234.306 914.177 Q236.135 917.719 239.746 917.719 Q243.38 917.719 245.185 914.177 Q247.014 910.613 247.014 903.506 Q247.014 896.376 245.185 892.835 Q243.38 889.27 239.746 889.27 M239.746 885.566 Q245.556 885.566 248.611 890.173 Q251.69 894.756 251.69 903.506 Q251.69 912.233 248.611 916.839 Q245.556 921.423 239.746 921.423 Q233.935 921.423 230.857 916.839 Q227.801 912.233 227.801 903.506 Q227.801 894.756 230.857 890.173 Q233.935 885.566 239.746 885.566 Z\" fill=\"#000000\" fill-rule=\"nonzero\" fill-opacity=\"1\" /><path clip-path=\"url(#clip160)\" d=\"M270.486 901.608 Q267.338 901.608 265.486 903.761 Q263.658 905.913 263.658 909.663 Q263.658 913.39 265.486 915.566 Q267.338 917.719 270.486 917.719 Q273.634 917.719 275.463 915.566 Q277.315 913.39 277.315 909.663 Q277.315 905.913 275.463 903.761 Q273.634 901.608 270.486 901.608 M279.769 886.955 L279.769 891.214 Q278.009 890.381 276.204 889.941 Q274.421 889.502 272.662 889.502 Q268.032 889.502 265.579 892.627 Q263.148 895.751 262.801 902.071 Q264.167 900.057 266.227 898.992 Q268.287 897.904 270.764 897.904 Q275.972 897.904 278.981 901.076 Q282.014 904.224 282.014 909.663 Q282.014 914.987 278.866 918.205 Q275.718 921.423 270.486 921.423 Q264.491 921.423 261.32 916.839 Q258.148 912.233 258.148 903.506 Q258.148 895.312 262.037 890.451 Q265.926 885.566 272.477 885.566 Q274.236 885.566 276.019 885.914 Q277.824 886.261 279.769 886.955 Z\" fill=\"#000000\" fill-rule=\"nonzero\" fill-opacity=\"1\" /><path clip-path=\"url(#clip160)\" d=\"M114.26 631.494 L143.936 631.494 L143.936 635.429 L114.26 635.429 L114.26 631.494 Z\" fill=\"#000000\" fill-rule=\"nonzero\" fill-opacity=\"1\" /><path clip-path=\"url(#clip160)\" d=\"M164.028 616.841 Q160.417 616.841 158.589 620.406 Q156.783 623.948 156.783 631.078 Q156.783 638.184 158.589 641.749 Q160.417 645.29 164.028 645.29 Q167.663 645.29 169.468 641.749 Q171.297 638.184 171.297 631.078 Q171.297 623.948 169.468 620.406 Q167.663 616.841 164.028 616.841 M164.028 613.138 Q169.839 613.138 172.894 617.744 Q175.973 622.328 175.973 631.078 Q175.973 639.804 172.894 644.411 Q169.839 648.994 164.028 648.994 Q158.218 648.994 155.14 644.411 Q152.084 639.804 152.084 631.078 Q152.084 622.328 155.14 617.744 Q158.218 613.138 164.028 613.138 Z\" fill=\"#000000\" fill-rule=\"nonzero\" fill-opacity=\"1\" /><path clip-path=\"url(#clip160)\" d=\"M184.19 642.443 L189.075 642.443 L189.075 648.323 L184.19 648.323 L184.19 642.443 Z\" fill=\"#000000\" fill-rule=\"nonzero\" fill-opacity=\"1\" /><path clip-path=\"url(#clip160)\" d=\"M209.26 616.841 Q205.649 616.841 203.82 620.406 Q202.014 623.948 202.014 631.078 Q202.014 638.184 203.82 641.749 Q205.649 645.29 209.26 645.29 Q212.894 645.29 214.699 641.749 Q216.528 638.184 216.528 631.078 Q216.528 623.948 214.699 620.406 Q212.894 616.841 209.26 616.841 M209.26 613.138 Q215.07 613.138 218.125 617.744 Q221.204 622.328 221.204 631.078 Q221.204 639.804 218.125 644.411 Q215.07 648.994 209.26 648.994 Q203.449 648.994 200.371 644.411 Q197.315 639.804 197.315 631.078 Q197.315 622.328 200.371 617.744 Q203.449 613.138 209.26 613.138 Z\" fill=\"#000000\" fill-rule=\"nonzero\" fill-opacity=\"1\" /><path clip-path=\"url(#clip160)\" d=\"M239.422 616.841 Q235.81 616.841 233.982 620.406 Q232.176 623.948 232.176 631.078 Q232.176 638.184 233.982 641.749 Q235.81 645.29 239.422 645.29 Q243.056 645.29 244.861 641.749 Q246.69 638.184 246.69 631.078 Q246.69 623.948 244.861 620.406 Q243.056 616.841 239.422 616.841 M239.422 613.138 Q245.232 613.138 248.287 617.744 Q251.366 622.328 251.366 631.078 Q251.366 639.804 248.287 644.411 Q245.232 648.994 239.422 648.994 Q233.611 648.994 230.533 644.411 Q227.477 639.804 227.477 631.078 Q227.477 622.328 230.533 617.744 Q233.611 613.138 239.422 613.138 Z\" fill=\"#000000\" fill-rule=\"nonzero\" fill-opacity=\"1\" /><path clip-path=\"url(#clip160)\" d=\"M272.431 617.837 L260.625 636.286 L272.431 636.286 L272.431 617.837 M271.204 613.763 L277.083 613.763 L277.083 636.286 L282.014 636.286 L282.014 640.175 L277.083 640.175 L277.083 648.323 L272.431 648.323 L272.431 640.175 L256.829 640.175 L256.829 635.661 L271.204 613.763 Z\" fill=\"#000000\" fill-rule=\"nonzero\" fill-opacity=\"1\" /><path clip-path=\"url(#clip160)\" d=\"M116.343 359.066 L146.019 359.066 L146.019 363.001 L116.343 363.001 L116.343 359.066 Z\" fill=\"#000000\" fill-rule=\"nonzero\" fill-opacity=\"1\" /><path clip-path=\"url(#clip160)\" d=\"M166.112 344.413 Q162.501 344.413 160.672 347.978 Q158.866 351.519 158.866 358.649 Q158.866 365.755 160.672 369.32 Q162.501 372.862 166.112 372.862 Q169.746 372.862 171.552 369.32 Q173.38 365.755 173.38 358.649 Q173.38 351.519 171.552 347.978 Q169.746 344.413 166.112 344.413 M166.112 340.709 Q171.922 340.709 174.977 345.316 Q178.056 349.899 178.056 358.649 Q178.056 367.376 174.977 371.982 Q171.922 376.566 166.112 376.566 Q160.302 376.566 157.223 371.982 Q154.167 367.376 154.167 358.649 Q154.167 349.899 157.223 345.316 Q160.302 340.709 166.112 340.709 Z\" fill=\"#000000\" fill-rule=\"nonzero\" fill-opacity=\"1\" /><path clip-path=\"url(#clip160)\" d=\"M186.274 370.015 L191.158 370.015 L191.158 375.894 L186.274 375.894 L186.274 370.015 Z\" fill=\"#000000\" fill-rule=\"nonzero\" fill-opacity=\"1\" /><path clip-path=\"url(#clip160)\" d=\"M211.343 344.413 Q207.732 344.413 205.903 347.978 Q204.098 351.519 204.098 358.649 Q204.098 365.755 205.903 369.32 Q207.732 372.862 211.343 372.862 Q214.977 372.862 216.783 369.32 Q218.611 365.755 218.611 358.649 Q218.611 351.519 216.783 347.978 Q214.977 344.413 211.343 344.413 M211.343 340.709 Q217.153 340.709 220.209 345.316 Q223.287 349.899 223.287 358.649 Q223.287 367.376 220.209 371.982 Q217.153 376.566 211.343 376.566 Q205.533 376.566 202.454 371.982 Q199.399 367.376 199.399 358.649 Q199.399 349.899 202.454 345.316 Q205.533 340.709 211.343 340.709 Z\" fill=\"#000000\" fill-rule=\"nonzero\" fill-opacity=\"1\" /><path clip-path=\"url(#clip160)\" d=\"M241.505 344.413 Q237.894 344.413 236.065 347.978 Q234.26 351.519 234.26 358.649 Q234.26 365.755 236.065 369.32 Q237.894 372.862 241.505 372.862 Q245.139 372.862 246.945 369.32 Q248.773 365.755 248.773 358.649 Q248.773 351.519 246.945 347.978 Q245.139 344.413 241.505 344.413 M241.505 340.709 Q247.315 340.709 250.371 345.316 Q253.449 349.899 253.449 358.649 Q253.449 367.376 250.371 371.982 Q247.315 376.566 241.505 376.566 Q235.695 376.566 232.616 371.982 Q229.56 367.376 229.56 358.649 Q229.56 349.899 232.616 345.316 Q235.695 340.709 241.505 340.709 Z\" fill=\"#000000\" fill-rule=\"nonzero\" fill-opacity=\"1\" /><path clip-path=\"url(#clip160)\" d=\"M265.695 371.959 L282.014 371.959 L282.014 375.894 L260.07 375.894 L260.07 371.959 Q262.732 369.204 267.315 364.575 Q271.921 359.922 273.102 358.58 Q275.347 356.056 276.227 354.32 Q277.13 352.561 277.13 350.871 Q277.13 348.117 275.185 346.381 Q273.264 344.644 270.162 344.644 Q267.963 344.644 265.509 345.408 Q263.079 346.172 260.301 347.723 L260.301 343.001 Q263.125 341.867 265.579 341.288 Q268.032 340.709 270.07 340.709 Q275.44 340.709 278.634 343.394 Q281.829 346.08 281.829 350.57 Q281.829 352.7 281.019 354.621 Q280.231 356.519 278.125 359.112 Q277.546 359.783 274.444 363.001 Q271.343 366.195 265.695 371.959 Z\" fill=\"#000000\" fill-rule=\"nonzero\" fill-opacity=\"1\" /><path clip-path=\"url(#clip160)\" d=\"M164.515 71.9844 Q160.903 71.9844 159.075 75.5492 Q157.269 79.0908 157.269 86.2204 Q157.269 93.3268 159.075 96.8916 Q160.903 100.433 164.515 100.433 Q168.149 100.433 169.954 96.8916 Q171.783 93.3268 171.783 86.2204 Q171.783 79.0908 169.954 75.5492 Q168.149 71.9844 164.515 71.9844 M164.515 68.2807 Q170.325 68.2807 173.38 72.8871 Q176.459 77.4704 176.459 86.2204 Q176.459 94.9472 173.38 99.5537 Q170.325 104.137 164.515 104.137 Q158.704 104.137 155.626 99.5537 Q152.57 94.9472 152.57 86.2204 Q152.57 77.4704 155.626 72.8871 Q158.704 68.2807 164.515 68.2807 Z\" fill=\"#000000\" fill-rule=\"nonzero\" fill-opacity=\"1\" /><path clip-path=\"url(#clip160)\" d=\"M184.676 97.5861 L189.561 97.5861 L189.561 103.466 L184.676 103.466 L184.676 97.5861 Z\" fill=\"#000000\" fill-rule=\"nonzero\" fill-opacity=\"1\" /><path clip-path=\"url(#clip160)\" d=\"M209.746 71.9844 Q206.135 71.9844 204.306 75.5492 Q202.5 79.0908 202.5 86.2204 Q202.5 93.3268 204.306 96.8916 Q206.135 100.433 209.746 100.433 Q213.38 100.433 215.186 96.8916 Q217.014 93.3268 217.014 86.2204 Q217.014 79.0908 215.186 75.5492 Q213.38 71.9844 209.746 71.9844 M209.746 68.2807 Q215.556 68.2807 218.611 72.8871 Q221.69 77.4704 221.69 86.2204 Q221.69 94.9472 218.611 99.5537 Q215.556 104.137 209.746 104.137 Q203.936 104.137 200.857 99.5537 Q197.801 94.9472 197.801 86.2204 Q197.801 77.4704 200.857 72.8871 Q203.936 68.2807 209.746 68.2807 Z\" fill=\"#000000\" fill-rule=\"nonzero\" fill-opacity=\"1\" /><path clip-path=\"url(#clip160)\" d=\"M239.908 71.9844 Q236.297 71.9844 234.468 75.5492 Q232.662 79.0908 232.662 86.2204 Q232.662 93.3268 234.468 96.8916 Q236.297 100.433 239.908 100.433 Q243.542 100.433 245.347 96.8916 Q247.176 93.3268 247.176 86.2204 Q247.176 79.0908 245.347 75.5492 Q243.542 71.9844 239.908 71.9844 M239.908 68.2807 Q245.718 68.2807 248.773 72.8871 Q251.852 77.4704 251.852 86.2204 Q251.852 94.9472 248.773 99.5537 Q245.718 104.137 239.908 104.137 Q234.097 104.137 231.019 99.5537 Q227.963 94.9472 227.963 86.2204 Q227.963 77.4704 231.019 72.8871 Q234.097 68.2807 239.908 68.2807 Z\" fill=\"#000000\" fill-rule=\"nonzero\" fill-opacity=\"1\" /><path clip-path=\"url(#clip160)\" d=\"M270.07 71.9844 Q266.458 71.9844 264.63 75.5492 Q262.824 79.0908 262.824 86.2204 Q262.824 93.3268 264.63 96.8916 Q266.458 100.433 270.07 100.433 Q273.704 100.433 275.509 96.8916 Q277.338 93.3268 277.338 86.2204 Q277.338 79.0908 275.509 75.5492 Q273.704 71.9844 270.07 71.9844 M270.07 68.2807 Q275.88 68.2807 278.935 72.8871 Q282.014 77.4704 282.014 86.2204 Q282.014 94.9472 278.935 99.5537 Q275.88 104.137 270.07 104.137 Q264.259 104.137 261.181 99.5537 Q258.125 94.9472 258.125 86.2204 Q258.125 77.4704 261.181 72.8871 Q264.259 68.2807 270.07 68.2807 Z\" fill=\"#000000\" fill-rule=\"nonzero\" fill-opacity=\"1\" /><path clip-path=\"url(#clip160)\" d=\"M16.4842 755.248 L16.4842 748.341 L36.0269 735.164 L16.4842 722.083 L16.4842 715.176 L41.3741 731.981 L64.0042 731.981 L64.0042 738.443 L41.3741 738.443 L16.4842 755.248 Z\" fill=\"#000000\" fill-rule=\"nonzero\" fill-opacity=\"1\" /><circle clip-path=\"url(#clip162)\" cx=\"1597.64\" cy=\"89.2592\" r=\"14.4\" fill=\"#009af9\" fill-rule=\"evenodd\" fill-opacity=\"1\" stroke=\"#000000\" stroke-opacity=\"1\" stroke-width=\"3.2\"/>\n",
       "<circle clip-path=\"url(#clip162)\" cx=\"375.601\" cy=\"86.1857\" r=\"14.4\" fill=\"#009af9\" fill-rule=\"evenodd\" fill-opacity=\"1\" stroke=\"#000000\" stroke-opacity=\"1\" stroke-width=\"3.2\"/>\n",
       "<circle clip-path=\"url(#clip162)\" cx=\"2295.17\" cy=\"1384.24\" r=\"14.4\" fill=\"#009af9\" fill-rule=\"evenodd\" fill-opacity=\"1\" stroke=\"#000000\" stroke-opacity=\"1\" stroke-width=\"3.2\"/>\n",
       "</svg>\n"
      ],
      "text/html": [
       "<?xml version=\"1.0\" encoding=\"utf-8\"?>\n",
       "<svg xmlns=\"http://www.w3.org/2000/svg\" xmlns:xlink=\"http://www.w3.org/1999/xlink\" width=\"600\" height=\"400\" viewBox=\"0 0 2400 1600\">\n",
       "<defs>\n",
       "  <clipPath id=\"clip210\">\n",
       "    <rect x=\"0\" y=\"0\" width=\"2400\" height=\"1600\"/>\n",
       "  </clipPath>\n",
       "</defs>\n",
       "<path clip-path=\"url(#clip210)\" d=\"M0 1600 L2400 1600 L2400 0 L0 0  Z\" fill=\"#ffffff\" fill-rule=\"evenodd\" fill-opacity=\"1\"/>\n",
       "<defs>\n",
       "  <clipPath id=\"clip211\">\n",
       "    <rect x=\"480\" y=\"0\" width=\"1681\" height=\"1600\"/>\n",
       "  </clipPath>\n",
       "</defs>\n",
       "<path clip-path=\"url(#clip210)\" d=\"M318.014 1423.18 L2352.76 1423.18 L2352.76 47.2441 L318.014 47.2441  Z\" fill=\"#ffffff\" fill-rule=\"evenodd\" fill-opacity=\"1\"/>\n",
       "<defs>\n",
       "  <clipPath id=\"clip212\">\n",
       "    <rect x=\"318\" y=\"47\" width=\"2036\" height=\"1377\"/>\n",
       "  </clipPath>\n",
       "</defs>\n",
       "<polyline clip-path=\"url(#clip212)\" style=\"stroke:#000000; stroke-linecap:round; stroke-linejoin:round; stroke-width:2; stroke-opacity:0.1; fill:none\" points=\"375.601,1423.18 375.601,47.2441 \"/>\n",
       "<polyline clip-path=\"url(#clip212)\" style=\"stroke:#000000; stroke-linecap:round; stroke-linejoin:round; stroke-width:2; stroke-opacity:0.1; fill:none\" points=\"986.618,1423.18 986.618,47.2441 \"/>\n",
       "<polyline clip-path=\"url(#clip212)\" style=\"stroke:#000000; stroke-linecap:round; stroke-linejoin:round; stroke-width:2; stroke-opacity:0.1; fill:none\" points=\"1597.64,1423.18 1597.64,47.2441 \"/>\n",
       "<polyline clip-path=\"url(#clip212)\" style=\"stroke:#000000; stroke-linecap:round; stroke-linejoin:round; stroke-width:2; stroke-opacity:0.1; fill:none\" points=\"2208.65,1423.18 2208.65,47.2441 \"/>\n",
       "<polyline clip-path=\"url(#clip210)\" style=\"stroke:#000000; stroke-linecap:round; stroke-linejoin:round; stroke-width:4; stroke-opacity:1; fill:none\" points=\"318.014,1423.18 2352.76,1423.18 \"/>\n",
       "<polyline clip-path=\"url(#clip210)\" style=\"stroke:#000000; stroke-linecap:round; stroke-linejoin:round; stroke-width:4; stroke-opacity:1; fill:none\" points=\"375.601,1423.18 375.601,1404.28 \"/>\n",
       "<polyline clip-path=\"url(#clip210)\" style=\"stroke:#000000; stroke-linecap:round; stroke-linejoin:round; stroke-width:4; stroke-opacity:1; fill:none\" points=\"986.618,1423.18 986.618,1404.28 \"/>\n",
       "<polyline clip-path=\"url(#clip210)\" style=\"stroke:#000000; stroke-linecap:round; stroke-linejoin:round; stroke-width:4; stroke-opacity:1; fill:none\" points=\"1597.64,1423.18 1597.64,1404.28 \"/>\n",
       "<polyline clip-path=\"url(#clip210)\" style=\"stroke:#000000; stroke-linecap:round; stroke-linejoin:round; stroke-width:4; stroke-opacity:1; fill:none\" points=\"2208.65,1423.18 2208.65,1404.28 \"/>\n",
       "<path clip-path=\"url(#clip210)\" d=\"M352.985 1454.1 Q349.374 1454.1 347.545 1457.66 Q345.74 1461.2 345.74 1468.33 Q345.74 1475.44 347.545 1479.01 Q349.374 1482.55 352.985 1482.55 Q356.619 1482.55 358.425 1479.01 Q360.254 1475.44 360.254 1468.33 Q360.254 1461.2 358.425 1457.66 Q356.619 1454.1 352.985 1454.1 M352.985 1450.39 Q358.795 1450.39 361.851 1455 Q364.93 1459.58 364.93 1468.33 Q364.93 1477.06 361.851 1481.67 Q358.795 1486.25 352.985 1486.25 Q347.175 1486.25 344.096 1481.67 Q341.041 1477.06 341.041 1468.33 Q341.041 1459.58 344.096 1455 Q347.175 1450.39 352.985 1450.39 Z\" fill=\"#000000\" fill-rule=\"nonzero\" fill-opacity=\"1\" /><path clip-path=\"url(#clip210)\" d=\"M373.147 1479.7 L378.031 1479.7 L378.031 1485.58 L373.147 1485.58 L373.147 1479.7 Z\" fill=\"#000000\" fill-rule=\"nonzero\" fill-opacity=\"1\" /><path clip-path=\"url(#clip210)\" d=\"M398.216 1454.1 Q394.605 1454.1 392.777 1457.66 Q390.971 1461.2 390.971 1468.33 Q390.971 1475.44 392.777 1479.01 Q394.605 1482.55 398.216 1482.55 Q401.851 1482.55 403.656 1479.01 Q405.485 1475.44 405.485 1468.33 Q405.485 1461.2 403.656 1457.66 Q401.851 1454.1 398.216 1454.1 M398.216 1450.39 Q404.027 1450.39 407.082 1455 Q410.161 1459.58 410.161 1468.33 Q410.161 1477.06 407.082 1481.67 Q404.027 1486.25 398.216 1486.25 Q392.406 1486.25 389.328 1481.67 Q386.272 1477.06 386.272 1468.33 Q386.272 1459.58 389.328 1455 Q392.406 1450.39 398.216 1450.39 Z\" fill=\"#000000\" fill-rule=\"nonzero\" fill-opacity=\"1\" /><path clip-path=\"url(#clip210)\" d=\"M964.5 1454.1 Q960.889 1454.1 959.061 1457.66 Q957.255 1461.2 957.255 1468.33 Q957.255 1475.44 959.061 1479.01 Q960.889 1482.55 964.5 1482.55 Q968.135 1482.55 969.94 1479.01 Q971.769 1475.44 971.769 1468.33 Q971.769 1461.2 969.94 1457.66 Q968.135 1454.1 964.5 1454.1 M964.5 1450.39 Q970.311 1450.39 973.366 1455 Q976.445 1459.58 976.445 1468.33 Q976.445 1477.06 973.366 1481.67 Q970.311 1486.25 964.5 1486.25 Q958.69 1486.25 955.612 1481.67 Q952.556 1477.06 952.556 1468.33 Q952.556 1459.58 955.612 1455 Q958.69 1450.39 964.5 1450.39 Z\" fill=\"#000000\" fill-rule=\"nonzero\" fill-opacity=\"1\" /><path clip-path=\"url(#clip210)\" d=\"M984.662 1479.7 L989.547 1479.7 L989.547 1485.58 L984.662 1485.58 L984.662 1479.7 Z\" fill=\"#000000\" fill-rule=\"nonzero\" fill-opacity=\"1\" /><path clip-path=\"url(#clip210)\" d=\"M999.778 1451.02 L1018.13 1451.02 L1018.13 1454.96 L1004.06 1454.96 L1004.06 1463.43 Q1005.08 1463.08 1006.1 1462.92 Q1007.12 1462.73 1008.13 1462.73 Q1013.92 1462.73 1017.3 1465.9 Q1020.68 1469.08 1020.68 1474.49 Q1020.68 1480.07 1017.21 1483.17 Q1013.74 1486.25 1007.42 1486.25 Q1005.24 1486.25 1002.97 1485.88 Q1000.73 1485.51 998.32 1484.77 L998.32 1480.07 Q1000.4 1481.2 1002.63 1481.76 Q1004.85 1482.32 1007.32 1482.32 Q1011.33 1482.32 1013.67 1480.21 Q1016 1478.1 1016 1474.49 Q1016 1470.88 1013.67 1468.77 Q1011.33 1466.67 1007.32 1466.67 Q1005.45 1466.67 1003.57 1467.08 Q1001.72 1467.5 999.778 1468.38 L999.778 1451.02 Z\" fill=\"#000000\" fill-rule=\"nonzero\" fill-opacity=\"1\" /><path clip-path=\"url(#clip210)\" d=\"M1564.79 1481.64 L1572.43 1481.64 L1572.43 1455.28 L1564.12 1456.95 L1564.12 1452.69 L1572.38 1451.02 L1577.06 1451.02 L1577.06 1481.64 L1584.7 1481.64 L1584.7 1485.58 L1564.79 1485.58 L1564.79 1481.64 Z\" fill=\"#000000\" fill-rule=\"nonzero\" fill-opacity=\"1\" /><path clip-path=\"url(#clip210)\" d=\"M1594.14 1479.7 L1599.02 1479.7 L1599.02 1485.58 L1594.14 1485.58 L1594.14 1479.7 Z\" fill=\"#000000\" fill-rule=\"nonzero\" fill-opacity=\"1\" /><path clip-path=\"url(#clip210)\" d=\"M1619.21 1454.1 Q1615.6 1454.1 1613.77 1457.66 Q1611.96 1461.2 1611.96 1468.33 Q1611.96 1475.44 1613.77 1479.01 Q1615.6 1482.55 1619.21 1482.55 Q1622.84 1482.55 1624.65 1479.01 Q1626.48 1475.44 1626.48 1468.33 Q1626.48 1461.2 1624.65 1457.66 Q1622.84 1454.1 1619.21 1454.1 M1619.21 1450.39 Q1625.02 1450.39 1628.08 1455 Q1631.15 1459.58 1631.15 1468.33 Q1631.15 1477.06 1628.08 1481.67 Q1625.02 1486.25 1619.21 1486.25 Q1613.4 1486.25 1610.32 1481.67 Q1607.27 1477.06 1607.27 1468.33 Q1607.27 1459.58 1610.32 1455 Q1613.4 1450.39 1619.21 1450.39 Z\" fill=\"#000000\" fill-rule=\"nonzero\" fill-opacity=\"1\" /><path clip-path=\"url(#clip210)\" d=\"M2176.3 1481.64 L2183.94 1481.64 L2183.94 1455.28 L2175.63 1456.95 L2175.63 1452.69 L2183.9 1451.02 L2188.57 1451.02 L2188.57 1481.64 L2196.21 1481.64 L2196.21 1485.58 L2176.3 1485.58 L2176.3 1481.64 Z\" fill=\"#000000\" fill-rule=\"nonzero\" fill-opacity=\"1\" /><path clip-path=\"url(#clip210)\" d=\"M2205.66 1479.7 L2210.54 1479.7 L2210.54 1485.58 L2205.66 1485.58 L2205.66 1479.7 Z\" fill=\"#000000\" fill-rule=\"nonzero\" fill-opacity=\"1\" /><path clip-path=\"url(#clip210)\" d=\"M2220.77 1451.02 L2239.13 1451.02 L2239.13 1454.96 L2225.05 1454.96 L2225.05 1463.43 Q2226.07 1463.08 2227.09 1462.92 Q2228.11 1462.73 2229.13 1462.73 Q2234.91 1462.73 2238.29 1465.9 Q2241.67 1469.08 2241.67 1474.49 Q2241.67 1480.07 2238.2 1483.17 Q2234.73 1486.25 2228.41 1486.25 Q2226.23 1486.25 2223.97 1485.88 Q2221.72 1485.51 2219.31 1484.77 L2219.31 1480.07 Q2221.4 1481.2 2223.62 1481.76 Q2225.84 1482.32 2228.32 1482.32 Q2232.32 1482.32 2234.66 1480.21 Q2237 1478.1 2237 1474.49 Q2237 1470.88 2234.66 1468.77 Q2232.32 1466.67 2228.32 1466.67 Q2226.44 1466.67 2224.57 1467.08 Q2222.72 1467.5 2220.77 1468.38 L2220.77 1451.02 Z\" fill=\"#000000\" fill-rule=\"nonzero\" fill-opacity=\"1\" /><path clip-path=\"url(#clip210)\" d=\"M1317.21 1520.52 L1324.12 1520.52 L1335.93 1538.19 L1347.8 1520.52 L1354.7 1520.52 L1339.43 1543.34 L1355.72 1568.04 L1348.82 1568.04 L1335.45 1547.83 L1321.99 1568.04 L1315.05 1568.04 L1332.01 1542.68 L1317.21 1520.52 Z\" fill=\"#000000\" fill-rule=\"nonzero\" fill-opacity=\"1\" /><polyline clip-path=\"url(#clip212)\" style=\"stroke:#000000; stroke-linecap:round; stroke-linejoin:round; stroke-width:2; stroke-opacity:0.1; fill:none\" points=\"318.014,1175.9 2352.76,1175.9 \"/>\n",
       "<polyline clip-path=\"url(#clip212)\" style=\"stroke:#000000; stroke-linecap:round; stroke-linejoin:round; stroke-width:2; stroke-opacity:0.1; fill:none\" points=\"318.014,903.471 2352.76,903.471 \"/>\n",
       "<polyline clip-path=\"url(#clip212)\" style=\"stroke:#000000; stroke-linecap:round; stroke-linejoin:round; stroke-width:2; stroke-opacity:0.1; fill:none\" points=\"318.014,631.043 2352.76,631.043 \"/>\n",
       "<polyline clip-path=\"url(#clip212)\" style=\"stroke:#000000; stroke-linecap:round; stroke-linejoin:round; stroke-width:2; stroke-opacity:0.1; fill:none\" points=\"318.014,358.614 2352.76,358.614 \"/>\n",
       "<polyline clip-path=\"url(#clip212)\" style=\"stroke:#000000; stroke-linecap:round; stroke-linejoin:round; stroke-width:2; stroke-opacity:0.1; fill:none\" points=\"318.014,86.1857 2352.76,86.1857 \"/>\n",
       "<polyline clip-path=\"url(#clip210)\" style=\"stroke:#000000; stroke-linecap:round; stroke-linejoin:round; stroke-width:4; stroke-opacity:1; fill:none\" points=\"318.014,1423.18 318.014,47.2441 \"/>\n",
       "<polyline clip-path=\"url(#clip210)\" style=\"stroke:#000000; stroke-linecap:round; stroke-linejoin:round; stroke-width:4; stroke-opacity:1; fill:none\" points=\"318.014,1175.9 336.912,1175.9 \"/>\n",
       "<polyline clip-path=\"url(#clip210)\" style=\"stroke:#000000; stroke-linecap:round; stroke-linejoin:round; stroke-width:4; stroke-opacity:1; fill:none\" points=\"318.014,903.471 336.912,903.471 \"/>\n",
       "<polyline clip-path=\"url(#clip210)\" style=\"stroke:#000000; stroke-linecap:round; stroke-linejoin:round; stroke-width:4; stroke-opacity:1; fill:none\" points=\"318.014,631.043 336.912,631.043 \"/>\n",
       "<polyline clip-path=\"url(#clip210)\" style=\"stroke:#000000; stroke-linecap:round; stroke-linejoin:round; stroke-width:4; stroke-opacity:1; fill:none\" points=\"318.014,358.614 336.912,358.614 \"/>\n",
       "<polyline clip-path=\"url(#clip210)\" style=\"stroke:#000000; stroke-linecap:round; stroke-linejoin:round; stroke-width:4; stroke-opacity:1; fill:none\" points=\"318.014,86.1857 336.912,86.1857 \"/>\n",
       "<path clip-path=\"url(#clip210)\" d=\"M114.839 1176.35 L144.515 1176.35 L144.515 1180.29 L114.839 1180.29 L114.839 1176.35 Z\" fill=\"#000000\" fill-rule=\"nonzero\" fill-opacity=\"1\" /><path clip-path=\"url(#clip210)\" d=\"M164.607 1161.7 Q160.996 1161.7 159.167 1165.26 Q157.362 1168.81 157.362 1175.93 Q157.362 1183.04 159.167 1186.61 Q160.996 1190.15 164.607 1190.15 Q168.241 1190.15 170.047 1186.61 Q171.876 1183.04 171.876 1175.93 Q171.876 1168.81 170.047 1165.26 Q168.241 1161.7 164.607 1161.7 M164.607 1157.99 Q170.417 1157.99 173.473 1162.6 Q176.551 1167.18 176.551 1175.93 Q176.551 1184.66 173.473 1189.27 Q170.417 1193.85 164.607 1193.85 Q158.797 1193.85 155.718 1189.27 Q152.663 1184.66 152.663 1175.93 Q152.663 1167.18 155.718 1162.6 Q158.797 1157.99 164.607 1157.99 Z\" fill=\"#000000\" fill-rule=\"nonzero\" fill-opacity=\"1\" /><path clip-path=\"url(#clip210)\" d=\"M184.769 1187.3 L189.653 1187.3 L189.653 1193.18 L184.769 1193.18 L184.769 1187.3 Z\" fill=\"#000000\" fill-rule=\"nonzero\" fill-opacity=\"1\" /><path clip-path=\"url(#clip210)\" d=\"M209.838 1161.7 Q206.227 1161.7 204.399 1165.26 Q202.593 1168.81 202.593 1175.93 Q202.593 1183.04 204.399 1186.61 Q206.227 1190.15 209.838 1190.15 Q213.473 1190.15 215.278 1186.61 Q217.107 1183.04 217.107 1175.93 Q217.107 1168.81 215.278 1165.26 Q213.473 1161.7 209.838 1161.7 M209.838 1157.99 Q215.649 1157.99 218.704 1162.6 Q221.783 1167.18 221.783 1175.93 Q221.783 1184.66 218.704 1189.27 Q215.649 1193.85 209.838 1193.85 Q204.028 1193.85 200.95 1189.27 Q197.894 1184.66 197.894 1175.93 Q197.894 1167.18 200.95 1162.6 Q204.028 1157.99 209.838 1157.99 Z\" fill=\"#000000\" fill-rule=\"nonzero\" fill-opacity=\"1\" /><path clip-path=\"url(#clip210)\" d=\"M240 1161.7 Q236.389 1161.7 234.56 1165.26 Q232.755 1168.81 232.755 1175.93 Q232.755 1183.04 234.56 1186.61 Q236.389 1190.15 240 1190.15 Q243.634 1190.15 245.44 1186.61 Q247.269 1183.04 247.269 1175.93 Q247.269 1168.81 245.44 1165.26 Q243.634 1161.7 240 1161.7 M240 1157.99 Q245.81 1157.99 248.866 1162.6 Q251.945 1167.18 251.945 1175.93 Q251.945 1184.66 248.866 1189.27 Q245.81 1193.85 240 1193.85 Q234.19 1193.85 231.111 1189.27 Q228.056 1184.66 228.056 1175.93 Q228.056 1167.18 231.111 1162.6 Q234.19 1157.99 240 1157.99 Z\" fill=\"#000000\" fill-rule=\"nonzero\" fill-opacity=\"1\" /><path clip-path=\"url(#clip210)\" d=\"M270.162 1176.77 Q266.829 1176.77 264.907 1178.55 Q263.009 1180.33 263.009 1183.46 Q263.009 1186.58 264.907 1188.37 Q266.829 1190.15 270.162 1190.15 Q273.495 1190.15 275.417 1188.37 Q277.338 1186.56 277.338 1183.46 Q277.338 1180.33 275.417 1178.55 Q273.519 1176.77 270.162 1176.77 M265.486 1174.78 Q262.477 1174.04 260.787 1171.98 Q259.12 1169.92 259.12 1166.95 Q259.12 1162.81 262.06 1160.4 Q265.023 1157.99 270.162 1157.99 Q275.324 1157.99 278.264 1160.4 Q281.204 1162.81 281.204 1166.95 Q281.204 1169.92 279.514 1171.98 Q277.847 1174.04 274.861 1174.78 Q278.241 1175.56 280.116 1177.86 Q282.014 1180.15 282.014 1183.46 Q282.014 1188.48 278.935 1191.17 Q275.88 1193.85 270.162 1193.85 Q264.445 1193.85 261.366 1191.17 Q258.31 1188.48 258.31 1183.46 Q258.31 1180.15 260.208 1177.86 Q262.107 1175.56 265.486 1174.78 M263.773 1167.39 Q263.773 1170.08 265.44 1171.58 Q267.13 1173.09 270.162 1173.09 Q273.171 1173.09 274.861 1171.58 Q276.574 1170.08 276.574 1167.39 Q276.574 1164.71 274.861 1163.2 Q273.171 1161.7 270.162 1161.7 Q267.13 1161.7 265.44 1163.2 Q263.773 1164.71 263.773 1167.39 Z\" fill=\"#000000\" fill-rule=\"nonzero\" fill-opacity=\"1\" /><path clip-path=\"url(#clip210)\" d=\"M114.584 903.923 L144.26 903.923 L144.26 907.858 L114.584 907.858 L114.584 903.923 Z\" fill=\"#000000\" fill-rule=\"nonzero\" fill-opacity=\"1\" /><path clip-path=\"url(#clip210)\" d=\"M164.352 889.27 Q160.741 889.27 158.913 892.835 Q157.107 896.376 157.107 903.506 Q157.107 910.613 158.913 914.177 Q160.741 917.719 164.352 917.719 Q167.987 917.719 169.792 914.177 Q171.621 910.613 171.621 903.506 Q171.621 896.376 169.792 892.835 Q167.987 889.27 164.352 889.27 M164.352 885.566 Q170.163 885.566 173.218 890.173 Q176.297 894.756 176.297 903.506 Q176.297 912.233 173.218 916.839 Q170.163 921.423 164.352 921.423 Q158.542 921.423 155.464 916.839 Q152.408 912.233 152.408 903.506 Q152.408 894.756 155.464 890.173 Q158.542 885.566 164.352 885.566 Z\" fill=\"#000000\" fill-rule=\"nonzero\" fill-opacity=\"1\" /><path clip-path=\"url(#clip210)\" d=\"M184.514 914.872 L189.399 914.872 L189.399 920.751 L184.514 920.751 L184.514 914.872 Z\" fill=\"#000000\" fill-rule=\"nonzero\" fill-opacity=\"1\" /><path clip-path=\"url(#clip210)\" d=\"M209.584 889.27 Q205.973 889.27 204.144 892.835 Q202.338 896.376 202.338 903.506 Q202.338 910.613 204.144 914.177 Q205.973 917.719 209.584 917.719 Q213.218 917.719 215.024 914.177 Q216.852 910.613 216.852 903.506 Q216.852 896.376 215.024 892.835 Q213.218 889.27 209.584 889.27 M209.584 885.566 Q215.394 885.566 218.449 890.173 Q221.528 894.756 221.528 903.506 Q221.528 912.233 218.449 916.839 Q215.394 921.423 209.584 921.423 Q203.774 921.423 200.695 916.839 Q197.639 912.233 197.639 903.506 Q197.639 894.756 200.695 890.173 Q203.774 885.566 209.584 885.566 Z\" fill=\"#000000\" fill-rule=\"nonzero\" fill-opacity=\"1\" /><path clip-path=\"url(#clip210)\" d=\"M239.746 889.27 Q236.135 889.27 234.306 892.835 Q232.5 896.376 232.5 903.506 Q232.5 910.613 234.306 914.177 Q236.135 917.719 239.746 917.719 Q243.38 917.719 245.185 914.177 Q247.014 910.613 247.014 903.506 Q247.014 896.376 245.185 892.835 Q243.38 889.27 239.746 889.27 M239.746 885.566 Q245.556 885.566 248.611 890.173 Q251.69 894.756 251.69 903.506 Q251.69 912.233 248.611 916.839 Q245.556 921.423 239.746 921.423 Q233.935 921.423 230.857 916.839 Q227.801 912.233 227.801 903.506 Q227.801 894.756 230.857 890.173 Q233.935 885.566 239.746 885.566 Z\" fill=\"#000000\" fill-rule=\"nonzero\" fill-opacity=\"1\" /><path clip-path=\"url(#clip210)\" d=\"M270.486 901.608 Q267.338 901.608 265.486 903.761 Q263.658 905.913 263.658 909.663 Q263.658 913.39 265.486 915.566 Q267.338 917.719 270.486 917.719 Q273.634 917.719 275.463 915.566 Q277.315 913.39 277.315 909.663 Q277.315 905.913 275.463 903.761 Q273.634 901.608 270.486 901.608 M279.769 886.955 L279.769 891.214 Q278.009 890.381 276.204 889.941 Q274.421 889.502 272.662 889.502 Q268.032 889.502 265.579 892.627 Q263.148 895.751 262.801 902.071 Q264.167 900.057 266.227 898.992 Q268.287 897.904 270.764 897.904 Q275.972 897.904 278.981 901.076 Q282.014 904.224 282.014 909.663 Q282.014 914.987 278.866 918.205 Q275.718 921.423 270.486 921.423 Q264.491 921.423 261.32 916.839 Q258.148 912.233 258.148 903.506 Q258.148 895.312 262.037 890.451 Q265.926 885.566 272.477 885.566 Q274.236 885.566 276.019 885.914 Q277.824 886.261 279.769 886.955 Z\" fill=\"#000000\" fill-rule=\"nonzero\" fill-opacity=\"1\" /><path clip-path=\"url(#clip210)\" d=\"M114.26 631.494 L143.936 631.494 L143.936 635.429 L114.26 635.429 L114.26 631.494 Z\" fill=\"#000000\" fill-rule=\"nonzero\" fill-opacity=\"1\" /><path clip-path=\"url(#clip210)\" d=\"M164.028 616.841 Q160.417 616.841 158.589 620.406 Q156.783 623.948 156.783 631.078 Q156.783 638.184 158.589 641.749 Q160.417 645.29 164.028 645.29 Q167.663 645.29 169.468 641.749 Q171.297 638.184 171.297 631.078 Q171.297 623.948 169.468 620.406 Q167.663 616.841 164.028 616.841 M164.028 613.138 Q169.839 613.138 172.894 617.744 Q175.973 622.328 175.973 631.078 Q175.973 639.804 172.894 644.411 Q169.839 648.994 164.028 648.994 Q158.218 648.994 155.14 644.411 Q152.084 639.804 152.084 631.078 Q152.084 622.328 155.14 617.744 Q158.218 613.138 164.028 613.138 Z\" fill=\"#000000\" fill-rule=\"nonzero\" fill-opacity=\"1\" /><path clip-path=\"url(#clip210)\" d=\"M184.19 642.443 L189.075 642.443 L189.075 648.323 L184.19 648.323 L184.19 642.443 Z\" fill=\"#000000\" fill-rule=\"nonzero\" fill-opacity=\"1\" /><path clip-path=\"url(#clip210)\" d=\"M209.26 616.841 Q205.649 616.841 203.82 620.406 Q202.014 623.948 202.014 631.078 Q202.014 638.184 203.82 641.749 Q205.649 645.29 209.26 645.29 Q212.894 645.29 214.699 641.749 Q216.528 638.184 216.528 631.078 Q216.528 623.948 214.699 620.406 Q212.894 616.841 209.26 616.841 M209.26 613.138 Q215.07 613.138 218.125 617.744 Q221.204 622.328 221.204 631.078 Q221.204 639.804 218.125 644.411 Q215.07 648.994 209.26 648.994 Q203.449 648.994 200.371 644.411 Q197.315 639.804 197.315 631.078 Q197.315 622.328 200.371 617.744 Q203.449 613.138 209.26 613.138 Z\" fill=\"#000000\" fill-rule=\"nonzero\" fill-opacity=\"1\" /><path clip-path=\"url(#clip210)\" d=\"M239.422 616.841 Q235.81 616.841 233.982 620.406 Q232.176 623.948 232.176 631.078 Q232.176 638.184 233.982 641.749 Q235.81 645.29 239.422 645.29 Q243.056 645.29 244.861 641.749 Q246.69 638.184 246.69 631.078 Q246.69 623.948 244.861 620.406 Q243.056 616.841 239.422 616.841 M239.422 613.138 Q245.232 613.138 248.287 617.744 Q251.366 622.328 251.366 631.078 Q251.366 639.804 248.287 644.411 Q245.232 648.994 239.422 648.994 Q233.611 648.994 230.533 644.411 Q227.477 639.804 227.477 631.078 Q227.477 622.328 230.533 617.744 Q233.611 613.138 239.422 613.138 Z\" fill=\"#000000\" fill-rule=\"nonzero\" fill-opacity=\"1\" /><path clip-path=\"url(#clip210)\" d=\"M272.431 617.837 L260.625 636.286 L272.431 636.286 L272.431 617.837 M271.204 613.763 L277.083 613.763 L277.083 636.286 L282.014 636.286 L282.014 640.175 L277.083 640.175 L277.083 648.323 L272.431 648.323 L272.431 640.175 L256.829 640.175 L256.829 635.661 L271.204 613.763 Z\" fill=\"#000000\" fill-rule=\"nonzero\" fill-opacity=\"1\" /><path clip-path=\"url(#clip210)\" d=\"M116.343 359.066 L146.019 359.066 L146.019 363.001 L116.343 363.001 L116.343 359.066 Z\" fill=\"#000000\" fill-rule=\"nonzero\" fill-opacity=\"1\" /><path clip-path=\"url(#clip210)\" d=\"M166.112 344.413 Q162.501 344.413 160.672 347.978 Q158.866 351.519 158.866 358.649 Q158.866 365.755 160.672 369.32 Q162.501 372.862 166.112 372.862 Q169.746 372.862 171.552 369.32 Q173.38 365.755 173.38 358.649 Q173.38 351.519 171.552 347.978 Q169.746 344.413 166.112 344.413 M166.112 340.709 Q171.922 340.709 174.977 345.316 Q178.056 349.899 178.056 358.649 Q178.056 367.376 174.977 371.982 Q171.922 376.566 166.112 376.566 Q160.302 376.566 157.223 371.982 Q154.167 367.376 154.167 358.649 Q154.167 349.899 157.223 345.316 Q160.302 340.709 166.112 340.709 Z\" fill=\"#000000\" fill-rule=\"nonzero\" fill-opacity=\"1\" /><path clip-path=\"url(#clip210)\" d=\"M186.274 370.015 L191.158 370.015 L191.158 375.894 L186.274 375.894 L186.274 370.015 Z\" fill=\"#000000\" fill-rule=\"nonzero\" fill-opacity=\"1\" /><path clip-path=\"url(#clip210)\" d=\"M211.343 344.413 Q207.732 344.413 205.903 347.978 Q204.098 351.519 204.098 358.649 Q204.098 365.755 205.903 369.32 Q207.732 372.862 211.343 372.862 Q214.977 372.862 216.783 369.32 Q218.611 365.755 218.611 358.649 Q218.611 351.519 216.783 347.978 Q214.977 344.413 211.343 344.413 M211.343 340.709 Q217.153 340.709 220.209 345.316 Q223.287 349.899 223.287 358.649 Q223.287 367.376 220.209 371.982 Q217.153 376.566 211.343 376.566 Q205.533 376.566 202.454 371.982 Q199.399 367.376 199.399 358.649 Q199.399 349.899 202.454 345.316 Q205.533 340.709 211.343 340.709 Z\" fill=\"#000000\" fill-rule=\"nonzero\" fill-opacity=\"1\" /><path clip-path=\"url(#clip210)\" d=\"M241.505 344.413 Q237.894 344.413 236.065 347.978 Q234.26 351.519 234.26 358.649 Q234.26 365.755 236.065 369.32 Q237.894 372.862 241.505 372.862 Q245.139 372.862 246.945 369.32 Q248.773 365.755 248.773 358.649 Q248.773 351.519 246.945 347.978 Q245.139 344.413 241.505 344.413 M241.505 340.709 Q247.315 340.709 250.371 345.316 Q253.449 349.899 253.449 358.649 Q253.449 367.376 250.371 371.982 Q247.315 376.566 241.505 376.566 Q235.695 376.566 232.616 371.982 Q229.56 367.376 229.56 358.649 Q229.56 349.899 232.616 345.316 Q235.695 340.709 241.505 340.709 Z\" fill=\"#000000\" fill-rule=\"nonzero\" fill-opacity=\"1\" /><path clip-path=\"url(#clip210)\" d=\"M265.695 371.959 L282.014 371.959 L282.014 375.894 L260.07 375.894 L260.07 371.959 Q262.732 369.204 267.315 364.575 Q271.921 359.922 273.102 358.58 Q275.347 356.056 276.227 354.32 Q277.13 352.561 277.13 350.871 Q277.13 348.117 275.185 346.381 Q273.264 344.644 270.162 344.644 Q267.963 344.644 265.509 345.408 Q263.079 346.172 260.301 347.723 L260.301 343.001 Q263.125 341.867 265.579 341.288 Q268.032 340.709 270.07 340.709 Q275.44 340.709 278.634 343.394 Q281.829 346.08 281.829 350.57 Q281.829 352.7 281.019 354.621 Q280.231 356.519 278.125 359.112 Q277.546 359.783 274.444 363.001 Q271.343 366.195 265.695 371.959 Z\" fill=\"#000000\" fill-rule=\"nonzero\" fill-opacity=\"1\" /><path clip-path=\"url(#clip210)\" d=\"M164.515 71.9844 Q160.903 71.9844 159.075 75.5492 Q157.269 79.0908 157.269 86.2204 Q157.269 93.3268 159.075 96.8916 Q160.903 100.433 164.515 100.433 Q168.149 100.433 169.954 96.8916 Q171.783 93.3268 171.783 86.2204 Q171.783 79.0908 169.954 75.5492 Q168.149 71.9844 164.515 71.9844 M164.515 68.2807 Q170.325 68.2807 173.38 72.8871 Q176.459 77.4704 176.459 86.2204 Q176.459 94.9472 173.38 99.5537 Q170.325 104.137 164.515 104.137 Q158.704 104.137 155.626 99.5537 Q152.57 94.9472 152.57 86.2204 Q152.57 77.4704 155.626 72.8871 Q158.704 68.2807 164.515 68.2807 Z\" fill=\"#000000\" fill-rule=\"nonzero\" fill-opacity=\"1\" /><path clip-path=\"url(#clip210)\" d=\"M184.676 97.5861 L189.561 97.5861 L189.561 103.466 L184.676 103.466 L184.676 97.5861 Z\" fill=\"#000000\" fill-rule=\"nonzero\" fill-opacity=\"1\" /><path clip-path=\"url(#clip210)\" d=\"M209.746 71.9844 Q206.135 71.9844 204.306 75.5492 Q202.5 79.0908 202.5 86.2204 Q202.5 93.3268 204.306 96.8916 Q206.135 100.433 209.746 100.433 Q213.38 100.433 215.186 96.8916 Q217.014 93.3268 217.014 86.2204 Q217.014 79.0908 215.186 75.5492 Q213.38 71.9844 209.746 71.9844 M209.746 68.2807 Q215.556 68.2807 218.611 72.8871 Q221.69 77.4704 221.69 86.2204 Q221.69 94.9472 218.611 99.5537 Q215.556 104.137 209.746 104.137 Q203.936 104.137 200.857 99.5537 Q197.801 94.9472 197.801 86.2204 Q197.801 77.4704 200.857 72.8871 Q203.936 68.2807 209.746 68.2807 Z\" fill=\"#000000\" fill-rule=\"nonzero\" fill-opacity=\"1\" /><path clip-path=\"url(#clip210)\" d=\"M239.908 71.9844 Q236.297 71.9844 234.468 75.5492 Q232.662 79.0908 232.662 86.2204 Q232.662 93.3268 234.468 96.8916 Q236.297 100.433 239.908 100.433 Q243.542 100.433 245.347 96.8916 Q247.176 93.3268 247.176 86.2204 Q247.176 79.0908 245.347 75.5492 Q243.542 71.9844 239.908 71.9844 M239.908 68.2807 Q245.718 68.2807 248.773 72.8871 Q251.852 77.4704 251.852 86.2204 Q251.852 94.9472 248.773 99.5537 Q245.718 104.137 239.908 104.137 Q234.097 104.137 231.019 99.5537 Q227.963 94.9472 227.963 86.2204 Q227.963 77.4704 231.019 72.8871 Q234.097 68.2807 239.908 68.2807 Z\" fill=\"#000000\" fill-rule=\"nonzero\" fill-opacity=\"1\" /><path clip-path=\"url(#clip210)\" d=\"M270.07 71.9844 Q266.458 71.9844 264.63 75.5492 Q262.824 79.0908 262.824 86.2204 Q262.824 93.3268 264.63 96.8916 Q266.458 100.433 270.07 100.433 Q273.704 100.433 275.509 96.8916 Q277.338 93.3268 277.338 86.2204 Q277.338 79.0908 275.509 75.5492 Q273.704 71.9844 270.07 71.9844 M270.07 68.2807 Q275.88 68.2807 278.935 72.8871 Q282.014 77.4704 282.014 86.2204 Q282.014 94.9472 278.935 99.5537 Q275.88 104.137 270.07 104.137 Q264.259 104.137 261.181 99.5537 Q258.125 94.9472 258.125 86.2204 Q258.125 77.4704 261.181 72.8871 Q264.259 68.2807 270.07 68.2807 Z\" fill=\"#000000\" fill-rule=\"nonzero\" fill-opacity=\"1\" /><path clip-path=\"url(#clip210)\" d=\"M16.4842 755.248 L16.4842 748.341 L36.0269 735.164 L16.4842 722.083 L16.4842 715.176 L41.3741 731.981 L64.0042 731.981 L64.0042 738.443 L41.3741 738.443 L16.4842 755.248 Z\" fill=\"#000000\" fill-rule=\"nonzero\" fill-opacity=\"1\" /><circle clip-path=\"url(#clip212)\" cx=\"1597.64\" cy=\"89.2592\" r=\"14.4\" fill=\"#009af9\" fill-rule=\"evenodd\" fill-opacity=\"1\" stroke=\"#000000\" stroke-opacity=\"1\" stroke-width=\"3.2\"/>\n",
       "<circle clip-path=\"url(#clip212)\" cx=\"375.601\" cy=\"86.1857\" r=\"14.4\" fill=\"#009af9\" fill-rule=\"evenodd\" fill-opacity=\"1\" stroke=\"#000000\" stroke-opacity=\"1\" stroke-width=\"3.2\"/>\n",
       "<circle clip-path=\"url(#clip212)\" cx=\"2295.17\" cy=\"1384.24\" r=\"14.4\" fill=\"#009af9\" fill-rule=\"evenodd\" fill-opacity=\"1\" stroke=\"#000000\" stroke-opacity=\"1\" stroke-width=\"3.2\"/>\n",
       "</svg>\n"
      ]
     },
     "execution_count": 136,
     "metadata": {},
     "output_type": "execute_result"
    }
   ],
   "source": [
    "\n",
    "\n",
    "\n",
    "# Parameters\n",
    "#N = 100 # Number of time steps\n",
    "L = 2 # Wheelbase, example value\n",
    "r_safe = 0.0 # Safety radius\n",
    "obstacles = [(1, 2, 1)] # Each tuple: (o_x, o_y, r)\n",
    "\n",
    "# Initial conditions\n",
    "x0 = ref_trajectory[1, 2:4] # Initial state [x, y, theta]\n",
    "#initial_guess = repmat(x0, N)\n",
    "\n",
    "# Bounds\n",
    "xmin = fill(-Inf, 3)\n",
    "xmax = fill(Inf, 3)\n",
    "umin = [-5, -π/4] # velocity and steering angle limits\n",
    "umax = [5, π/4]\n",
    "\n",
    "# Weight matrices\n",
    "Q = I(3)\n",
    "R = I(2)\n",
    "P = I(3)\n",
    "\n",
    "# Create JuMP model\n",
    "model = Model(optimizer_with_attributes(Ipopt.Optimizer, \"print_level\" => 0))\n",
    "\n",
    "# Define decision variables\n",
    "@variable(model, x[1:N, 1:3])\n",
    "@variable(model, u[1:N, 1:2])\n",
    "\n",
    "# Objective function\n",
    "# @objective(model, Min,\n",
    "# sum( (x[k, 1:2] - ref_trajectory[k, 2:3]).^2 for k = 1:N) +\n",
    "# (x[N, 1:2] - ref_trajectory[N, 1:2]).^2 +\n",
    "# sum( u[k, :].^2 for k = 1:N-1)\n",
    "# )\n",
    "\n",
    "@objective(model, Min,\n",
    "sum( (x[k, 1] - ref_trajectory[k, 2])^2 for k = 1:N) +\n",
    "sum( (x[k, 2] - ref_trajectory[k, 3])^2 for k = 1:N) +\n",
    "sum( (x[k, 3] - ref_trajectory[k, 4])^2 for k = 1:N) +\n",
    "(x[N, 1] - ref_trajectory[N, 2])^2 +\n",
    "(x[N, 2] - ref_trajectory[N, 3])^2 +\n",
    "(x[N, 3] - ref_trajectory[N, 4])^2 +\n",
    "sum( u[k, 1]^2 for k = 1:N-1) +\n",
    "sum( u[k, 2]^2 for k = 1:N-1)\n",
    ")\n",
    "\n",
    "\n",
    "# System dynamics constraints\n",
    "for k = 1:N-1\n",
    "    @constraint(model, x[k+1, :] .== A[:,:,k] * x[k, :] + B[:,:,k]* u[k, :])\n",
    "end\n",
    "\n",
    "#State and control bounds\n",
    "for k = 1:N\n",
    "    @constraint(model, ref_trajectory[k,2] - 1 .<= x[k, 1] .<= ref_trajectory[k,2] + 1)\n",
    "    @constraint(model, ref_trajectory[k,3] - 1 .<= x[k, 2] .<= ref_trajectory[k,3] + 1)\n",
    "end\n",
    "\n",
    "for k = 1:N\n",
    "    @constraint(model, umin .<= u[k, :] .<= umax)\n",
    "end\n",
    "\n",
    "# Obstacle avoidance constraints\n",
    "for j = 1:length(obstacles)\n",
    "   for k = 1:N\n",
    "       @constraint(model, (x[k,1] - obstacles[j][1])^2 + (x[k, 2] - obstacles[j][2])^2 >= (obstacles[j][3] + r_safe)^2)\n",
    "   end\n",
    "end\n",
    "\n",
    "# Set initial condition\n",
    "@constraint(model, x[1,:] .== x0)\n",
    "\n",
    "# set final condition\n",
    "@constraint(model, x[N, :] .== ref_trajectory[N, 2:4])\n",
    "\n",
    "# Solve the optimization problem\n",
    "optimize!(model)\n",
    "\n",
    "# Retrieve optimized trajectory\n",
    "x_opt = value.(x)\n",
    "\n",
    "\n",
    "\n",
    "\n",
    "x_data = x_opt[1, :]\n",
    "y_data = x_opt[2, :]\n",
    "\n",
    "scatter(x_data, y_data, xlabel=\"X\", ylabel=\"Y\", legend=false)"
   ]
  },
  {
   "cell_type": "code",
   "execution_count": 137,
   "metadata": {},
   "outputs": [
    {
     "data": {
      "text/plain": [
       "([1.0, 9.58879999999585e-8, 1.57079632679489], [1.0, 9.58879999999585e-8, 1.57079632679489])"
      ]
     },
     "execution_count": 137,
     "metadata": {},
     "output_type": "execute_result"
    }
   ],
   "source": [
    "x_opt[N,:],ref_trajectory[N, 2:4]\n",
    "x_opt[1,:],ref_trajectory[1, 2:4]"
   ]
  },
  {
   "cell_type": "code",
   "execution_count": 102,
   "metadata": {},
   "outputs": [
    {
     "data": {
      "text/plain": [
       "3-element Vector{VariableRef}:\n",
       " a[1,1]\n",
       " a[1,2]\n",
       " a[1,3]"
      ]
     },
     "execution_count": 102,
     "metadata": {},
     "output_type": "execute_result"
    }
   ],
   "source": [
    "a[1,:]"
   ]
  },
  {
   "cell_type": "code",
   "execution_count": null,
   "metadata": {},
   "outputs": [],
   "source": []
  }
 ],
 "metadata": {
  "kernelspec": {
   "display_name": "Julia 1.10.3",
   "language": "julia",
   "name": "julia-1.10"
  },
  "language_info": {
   "file_extension": ".jl",
   "mimetype": "application/julia",
   "name": "julia",
   "version": "1.10.3"
  }
 },
 "nbformat": 4,
 "nbformat_minor": 2
}
